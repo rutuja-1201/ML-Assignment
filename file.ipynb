{
  "nbformat": 4,
  "nbformat_minor": 0,
  "metadata": {
    "colab": {
      "provenance": [],
      "authorship_tag": "ABX9TyN1mRp3twiSwjxM2aGwq4BE",
      "include_colab_link": true
    },
    "kernelspec": {
      "name": "python3",
      "display_name": "Python 3"
    },
    "language_info": {
      "name": "python"
    }
  },
  "cells": [
    {
      "cell_type": "markdown",
      "metadata": {
        "id": "view-in-github",
        "colab_type": "text"
      },
      "source": [
        "<a href=\"https://colab.research.google.com/github/rutuja-1201/ML-Assignment/blob/main/file.ipynb\" target=\"_parent\"><img src=\"https://colab.research.google.com/assets/colab-badge.svg\" alt=\"Open In Colab\"/></a>"
      ]
    },
    {
      "cell_type": "code",
      "execution_count": null,
      "metadata": {
        "id": "fwD5L4F9HMKb"
      },
      "outputs": [],
      "source": [
        "\n",
        "!pip install transformers\n"
      ]
    },
    {
      "cell_type": "code",
      "source": [
        "pip install transformers numpy\n"
      ],
      "metadata": {
        "id": "PEBQBhnFXw_X"
      },
      "execution_count": null,
      "outputs": []
    },
    {
      "cell_type": "code",
      "source": [
        "pip install torch transformers tokenizers\n"
      ],
      "metadata": {
        "id": "593zXBe3izw1"
      },
      "execution_count": null,
      "outputs": []
    },
    {
      "cell_type": "code",
      "source": [
        "import torch\n",
        "from transformers import AutoModelForCausalLM, AutoTokenizer\n",
        "from torch.quantization import quantize_dynamic\n",
        "\n",
        "def optimize_model(model_path):\n",
        "\n",
        "    model = AutoModelForCausalLM.from_pretrained(model_path)\n",
        "    tokenizer = AutoTokenizer.from_pretrained(model_path)\n",
        "\n",
        "\n",
        "    model = quantize_dynamic(model)\n",
        "\n",
        "    return model, tokenizer\n"
      ],
      "metadata": {
        "id": "fl4v2oVyjBn8"
      },
      "execution_count": null,
      "outputs": []
    },
    {
      "cell_type": "code",
      "source": [],
      "metadata": {
        "id": "P_DOjkWRpq2i"
      },
      "execution_count": null,
      "outputs": []
    },
    {
      "cell_type": "code",
      "source": [
        "def run_inference(model, tokenizer):\n",
        "    while True:\n",
        "        prompt = input(\"Enter your prompt (type 'exit' to quit): \")\n",
        "        if prompt.lower() == 'exit':\n",
        "            break\n",
        "\n",
        "\n",
        "        inputs = tokenizer(prompt, return_tensors=\"pt\")\n",
        "\n",
        "\n",
        "        with torch.no_grad():\n",
        "            outputs = model(**inputs)\n",
        "\n",
        "\n",
        "        generated_text = tokenizer.decode(outputs.logits[0], skip_special_tokens=True)\n",
        "        print(\"Generated text:\", generated_text)\n",
        "\n",
        "\n"
      ],
      "metadata": {
        "id": "Rbp4ZeihjFoQ"
      },
      "execution_count": null,
      "outputs": []
    },
    {
      "cell_type": "code",
      "source": [
        "def main(model_path):\n",
        "\n",
        "    optimized_model, tokenizer = optimize_model(model_path)\n",
        "\n",
        "\n",
        "    run_inference(optimized_model, tokenizer)\n",
        "\n",
        "if __name__ == \"__main__\":\n",
        "    model_path = input(\"Enter the Huggingface model path: \")\n",
        "    main(model_path)\n"
      ],
      "metadata": {
        "id": "XzFEYC8ljVzk"
      },
      "execution_count": null,
      "outputs": []
    },
    {
      "cell_type": "code",
      "source": [
        "import time\n",
        "\n",
        "start_time = time.time()\n",
        "\n",
        "end_time = time.time()\n",
        "\n",
        "latency = end_time - start_time\n",
        "throughput = number_of_tokens / latency\n"
      ],
      "metadata": {
        "id": "4rpobH90oTOS"
      },
      "execution_count": null,
      "outputs": []
    },
    {
      "cell_type": "code",
      "source": [
        "quantize_dynamic(model, dtype=torch.qint8)\n"
      ],
      "metadata": {
        "id": "9CG7nSnIpWiN"
      },
      "execution_count": null,
      "outputs": []
    },
    {
      "cell_type": "code",
      "source": [
        "from torch2trt import torch2trt\n",
        "\n",
        "model_trt = torch2trt(optimized_model)\n"
      ],
      "metadata": {
        "id": "Kq_6R9hVpsqs"
      },
      "execution_count": null,
      "outputs": []
    },
    {
      "cell_type": "code",
      "source": [
        "\n",
        "torch.onnx.export(optimized_model, inputs, \"optimized_model.onnx\")\n",
        "\n",
        "\n",
        "import onnxruntime\n",
        "\n",
        "ort_session = onnxruntime.InferenceSession(\"optimized_model.onnx\")\n",
        "\n",
        "start_time = time.time()\n",
        "\n",
        "end_time = time.time()\n",
        "\n",
        "latency = end_time - start_time\n",
        "throughput = number_of_tokens / latency\n"
      ],
      "metadata": {
        "id": "QG2Ak6KzpwL7"
      },
      "execution_count": null,
      "outputs": []
    }
  ]
}